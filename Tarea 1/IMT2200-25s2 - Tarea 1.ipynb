{
 "cells": [
  {
   "cell_type": "markdown",
   "id": "a34d140a",
   "metadata": {},
   "source": [
    "IMT 2200 - Introducción a Ciencia de Datos<br>\n",
    "**Pontificia Universidad Católica de Chile**<br>\n",
    "**Instituto de Ingeniería Matemática y Computacional**<br>\n",
    "**Semestre 2025-S2**<br>\n",
    "**Profesor:** Rodrigo A. Carrasco <br>\n",
    "\n",
    "---\n",
    "\n",
    "## Tarea 01 – Cargando y Analizando Datos\n",
    "\n",
    "- **Fecha de Entrega:** martes 26 de agosto de 2025, a las 23:59.\n",
    "- \n",
    "**Formato de entrega:** Notebook ejecutado y comentado (`.ipynb`) en l emódulo de Tara 01 habilitado en Canvas.\n",
    "\n",
    "\n"
   ]
  },
  {
   "cell_type": "markdown",
   "id": "b6928ed9-0a2b-4588-8282-b3f3e5e24a8c",
   "metadata": {},
   "source": [
    "## Instrucciones\n",
    "\n",
    "- Esta Tarea debe desarrollarse de manera totalmente *individual*, de acuerdo a lo establecido en la sección de Integridad Académica en el programa del curso.\n",
    "- La Tarea debe ser desarrollada en lenguaje de programación Python y la entrega en formato Jupyter Notebook.\n",
    "- El desarrollo del Notebook debe ser claro y ordenado, incluyendo anotaciones (markdown) y comentarios que permitan seguir fácilmente el código y los pasos implementados a los correctores, y siguiendo buenas prácticas de programación. La presentación y claridad del notebook y código forman parte de la evaluación de la tarea.\n",
    "- Notebook **autocontenible** que:\n",
    "   - Ejecute sin errores todas las celdas.\n",
    "  - Contenga tanto el código como los comentarios y explicaciones necesarias.\n",
    "  - Incluya visualizaciones claras y correctamente etiquetadas.\n",
    "- No se aceptarán notebooks con celdas rotas o que dependan de rutas externas no indicadas en la tara.\n",
    "\n",
    "- Deben hacer sus consultas y comentarios sobre la Tarea a traves del canal de Tareas en eo del curso en Canvas.os.\n",
    "cteriza."
   ]
  },
  {
   "cell_type": "markdown",
   "id": "35a88d5e-b718-4b8e-81c8-dc169d02e88e",
   "metadata": {},
   "source": [
    "## 1. Objetivos\n",
    "\n",
    "- Aplicar los conceptos iniciales de manejo de datos y análisis exploratorio vistos en clases.\n",
    "- Practicar la lectura, limpieza y manipulación de datos en Python.\n",
    "- Desarrollar habilidades para visualizar y describir patrones y tendencias en conjuntos de datos reales.\n",
    "- Fomentar la capacidad de comunicar resultados de forma clara y fundamentada.\n",
    "\n",
    "### 1.1 Objetivo educacional\n",
    "\n",
    "Esta Tarea tiene como objetivo que los estudiantes desarrollen la capacidad de manejar algunas de las librerías centrales para el desarrollo de Ciencia de Datos, con foco en la lectura y exploración de datos. \n",
    "\n",
    "Para los ejercicios a continuación, usted deberá leer, inspeccionar, manipular y graficar conjuntos de datos en distintos formatos, de manera de responder las preguntas de cada parte de la Tarea.\n",
    "\n",
    "### 1.2 Pregunta de ciencia de datos\n",
    "\n",
    "Para esta tarea, tendremos como objetivo comprender cómo han cambiado los juegos de mesa en los últimos 40 años. Específicamente queremos saber qué tipos de juegos se han vuelto más comunes hoy en día y qué los caracteriza.\n",
    "\n",
    "### 1.3 Recomendaciones\n",
    "- Utiliza las librerías sugeridas en el notebook o justifica brevemente si incorporas otras.\n",
    "- Revisa que todas las celdas se ejecuten en orden, desde el inicio, sin errores.\n",
    "- Comenta tu código para explicar qué hace cada sección relevante.\n",
    "- Asegúrate de que las visualizaciones sean fáciles de interpretar y tengan títulos y etiquetas adecuados."
   ]
  },
  {
   "cell_type": "markdown",
   "id": "116596ef",
   "metadata": {},
   "source": [
    "## 2. Datos\n",
    "\n",
    "Estaremos utilizando información extraída desde [BoardGameGeek.com](https://boardgamegeek.com/), una plataforma para aficionados de los juegos de mesa, que permite a sus usuarios registrar, calificar e intercambiar sus juegos favoritos. Actualmente, BGG es una de las bases de datos más extensa y diversa de juegos de mesa.\n",
    "\n",
    "El dataset con el que trabajaremos consiste en un grupo de archivos CSV que contienen información sobre más de 100.000 juegos de mesa almacenados en la plataforma. Este puede descargarse directamente desde el siguiente enlace: https://www.kaggle.com/datasets/mshepherd/board-games Para descargar los datos, haga click en el botón de **Download**, donde podrá descargar los archivos como `.zip`, o bien utilizar la API de Kaggle.\n",
    "\n",
    "Para el desarrollo de esta tarea, solo utilizaremos los archivos con el prefijo `bgg_`.\n",
    "\n",
    "**Si utiliza la API de Kaggle para descargar los datos, deje el código utilizado en la siguiente celda:**"
   ]
  },
  {
   "cell_type": "code",
   "execution_count": 3,
   "id": "3499fd7e",
   "metadata": {},
   "outputs": [
    {
     "name": "stdout",
     "output_type": "stream",
     "text": [
      "Dataset URL: https://www.kaggle.com/datasets/mshepherd/board-games\n"
     ]
    }
   ],
   "source": [
    "import kaggle\n",
    "kaggle.api.authenticate()\n",
    "kaggle.api.dataset_download_files(\"mshepherd/board-games\", path=\"C:\\\\Users\\\\isimo\\\\Downloads\\\\ciencia de datos\\\\imt2200-25s2\\\\tareas\\\\tarea 01\", unzip=True)"
   ]
  },
  {
   "cell_type": "markdown",
   "id": "c32f6e52",
   "metadata": {},
   "source": [
    "### 2.1 Librerías\n",
    "\n",
    "Para esta tarea recomendamos al menos usar las librerías indicadas en la siguiente celda del Notebook. Puede agregar otras si lo estima conveniente para responder de mejor forma las preguntas de la Tarea."
   ]
  },
  {
   "cell_type": "code",
   "execution_count": 2,
   "id": "87be9d83",
   "metadata": {},
   "outputs": [],
   "source": [
    "import numpy as np\n",
    "import pandas as pd\n",
    "import matplotlib.pyplot as plt"
   ]
  },
  {
   "cell_type": "markdown",
   "id": "49c9c1e7",
   "metadata": {},
   "source": [
    "## 3. Desarrollo\n",
    "\n",
    "Para cada una de las siguientes preguntas o actividades incluya una o más celdas de código y Markdown con las respuestas o comentarios necesarios para contestar la pregunta o lograr la actividad. Agregue sus celdas a continuación de cada pregunta para que el Notebook quede ordenado.\n",
    "\n",
    "En el caso de gráficos, figuras o tablas, asegúrese que todas tengan título, etiquetas en los ejes o haya claridad de los contenidos."
   ]
  },
  {
   "cell_type": "markdown",
   "id": "dfc274ca",
   "metadata": {},
   "source": [
    "### 3.1 DataFrame unificado (1 punto)\n",
    "\n",
    "Vamos a cargar en un DataFrame los datos de juegos guardados en el documento `bgg_GameItem.csv`. Al inspeccionar nuestros datos, podemos notar que los valores de ciertas comunas vienen \"codificados\" con ID. Para comenzar, vamos a juntar la información de los distintos archivos descargados.\n",
    "\n",
    "**a) (0.8 pts)** Genere un DataFrame único con toda la información de cada juego, incluyendo: nombres de artistas y diseñadores involucrados, mecánicas, categorías, tipo, familia y editorial. Guarde este DataFrame en un nuevo archivo CSV."
   ]
  },
  {
   "cell_type": "code",
   "execution_count": 17,
   "id": "12aabf07",
   "metadata": {},
   "outputs": [
    {
     "data": {
      "text/html": [
       "<div>\n",
       "<style scoped>\n",
       "    .dataframe tbody tr th:only-of-type {\n",
       "        vertical-align: middle;\n",
       "    }\n",
       "\n",
       "    .dataframe tbody tr th {\n",
       "        vertical-align: top;\n",
       "    }\n",
       "\n",
       "    .dataframe thead th {\n",
       "        text-align: right;\n",
       "    }\n",
       "</style>\n",
       "<table border=\"1\" class=\"dataframe\">\n",
       "  <thead>\n",
       "    <tr style=\"text-align: right;\">\n",
       "      <th></th>\n",
       "      <th>game_type</th>\n",
       "      <th>mechanic</th>\n",
       "      <th>artist</th>\n",
       "      <th>designer</th>\n",
       "      <th>family</th>\n",
       "      <th>publisher</th>\n",
       "      <th>category</th>\n",
       "    </tr>\n",
       "  </thead>\n",
       "  <tbody>\n",
       "    <tr>\n",
       "      <th>0</th>\n",
       "      <td>Strategy Game</td>\n",
       "      <td>NaN</td>\n",
       "      <td>NaN</td>\n",
       "      <td>Die Macher</td>\n",
       "      <td>NaN</td>\n",
       "      <td>NaN</td>\n",
       "      <td>NaN</td>\n",
       "    </tr>\n",
       "    <tr>\n",
       "      <th>1</th>\n",
       "      <td>Strategy Game</td>\n",
       "      <td>Trick-taking</td>\n",
       "      <td>Bob Pepper</td>\n",
       "      <td>Dragonmaster</td>\n",
       "      <td>NaN</td>\n",
       "      <td>NaN</td>\n",
       "      <td>NaN</td>\n",
       "    </tr>\n",
       "    <tr>\n",
       "      <th>2</th>\n",
       "      <td>Strategy Game</td>\n",
       "      <td>NaN</td>\n",
       "      <td>Franz Vohwinkel</td>\n",
       "      <td>Samurai</td>\n",
       "      <td>NaN</td>\n",
       "      <td>NaN</td>\n",
       "      <td>NaN</td>\n",
       "    </tr>\n",
       "    <tr>\n",
       "      <th>3</th>\n",
       "      <td>Strategy Game</td>\n",
       "      <td>NaN</td>\n",
       "      <td>Thomas di Paolo</td>\n",
       "      <td>Tal der Könige</td>\n",
       "      <td>NaN</td>\n",
       "      <td>KOSMOS</td>\n",
       "      <td>Ancient</td>\n",
       "    </tr>\n",
       "    <tr>\n",
       "      <th>4</th>\n",
       "      <td>Strategy Game</td>\n",
       "      <td>NaN</td>\n",
       "      <td>NaN</td>\n",
       "      <td>Acquire</td>\n",
       "      <td>NaN</td>\n",
       "      <td>NaN</td>\n",
       "      <td>NaN</td>\n",
       "    </tr>\n",
       "  </tbody>\n",
       "</table>\n",
       "</div>"
      ],
      "text/plain": [
       "       game_type      mechanic           artist        designer family  \\\n",
       "0  Strategy Game           NaN              NaN      Die Macher    NaN   \n",
       "1  Strategy Game  Trick-taking       Bob Pepper    Dragonmaster    NaN   \n",
       "2  Strategy Game           NaN  Franz Vohwinkel         Samurai    NaN   \n",
       "3  Strategy Game           NaN  Thomas di Paolo  Tal der Könige    NaN   \n",
       "4  Strategy Game           NaN              NaN         Acquire    NaN   \n",
       "\n",
       "  publisher category  \n",
       "0       NaN      NaN  \n",
       "1       NaN      NaN  \n",
       "2       NaN      NaN  \n",
       "3    KOSMOS  Ancient  \n",
       "4       NaN      NaN  "
      ]
     },
     "execution_count": 17,
     "metadata": {},
     "output_type": "execute_result"
    }
   ],
   "source": [
    "gameitem = pd.read_csv(\"bgg_GameItem.csv\")\n",
    "\n",
    "#Se leen los archivos que contienen lo necesario para la decodificacion\n",
    "artista_disenador = pd.read_csv(\"bgg_Person.csv\")\n",
    "mecanicas = pd.read_csv(\"bgg_Mechanic.csv\")\n",
    "categorias = pd.read_csv(\"bgg_Category.csv\")\n",
    "tipo_juego = pd.read_csv(\"bgg_GameType.csv\")\n",
    "familia_juego = pd.read_csv(\"bgg_GameFamily.csv\")\n",
    "editorial_juego = pd.read_csv(\"bgg_Publisher.csv\")\n",
    "\n",
    "#La siguiente funcion se hizo para agilizar el proceso de la decodificacion de la base de datos,\n",
    "# para evitar errores por distintos tipos de datos (int64, str), se leen las columnas como un solo \n",
    "# tipo de dato (str) con el comando .astype. Se hace un cruce y reemplazamiento de las bases de \n",
    "# datos de codificacion con las del dataframe principal, para esto se utilizara el metodo merge(),\n",
    "# luego se intercambiara la informacion de las columnas \"agregadas\" con las columnas principales,\n",
    "# para finalmente borrar las columnas agregadas al final (bgg_id y name_suffix)\n",
    "#Para evitar el error al borrar la columna nombre, se utiliza en cada caso un sufijo (suffix) \n",
    "def decodificador(main, ref, columna_main, columna_id=\"bgg_id\", columna_nom=\"name\"):\n",
    "    main[columna_main] = main[columna_main].astype(str)\n",
    "    ref[columna_id] = ref[columna_id].astype(str)\n",
    "    columnas_orginales = set(main.columns)\n",
    "    dataframe = main.merge(ref, left_on=columna_main, right_on=columna_id, how=\"left\", \n",
    "                           suffixes=(\"\", f\"_{columna_main}\"))\n",
    "    dataframe[columna_main] = dataframe[columna_nom]\n",
    "    #Consulta a ChatGPT: \"Estoy creando una funcion en python con Pandas para reemplazar/decodificar\n",
    "    # una columna de un dataframe principal (main) con los valores de otro dataframe (ref). Estoy \n",
    "    # utilizando merge(). Copiare la funcion hasta el momento a continuacion, aun asi la explico: ya \n",
    "    # logro reemplazar los valores, pero quiero que la funcion elimine automaticamente todas las \n",
    "    # columnas extras generadas (nombres con suffix, y los _id), logrando asi que el dataframe final \n",
    "    # solo conserve la columna original decodificada y el resto de columnas originales. ¿Como puedo \n",
    "    # escribir la funcion para evitar las columnas extras innecesarias?\" La respuesta de ChatGPT \n",
    "    # incluye columnas_originales, y lo que sigue abajo en este codigo (exceptuando el return):\n",
    "    columnas_a_eliminar = [columna_id, columna_nom, f\"{columna_id}_{columna_main}\", \n",
    "                           f\"{columna_nom}_{columna_main}\"]\n",
    "    columnas_a_eliminar = [c for c in columnas_a_eliminar if c in dataframe.columns]\n",
    "    dataframe.drop(columns=columnas_a_eliminar, inplace=True)\n",
    "    return dataframe\n",
    "\n",
    "#Se llama a la funcion para cada archivo codificado .csv\n",
    "gameitem = decodificador(gameitem, artista_disenador, \"designer\")\n",
    "gameitem = decodificador(gameitem, artista_disenador, \"artist\")\n",
    "gameitem = decodificador(gameitem, mecanicas, \"mechanic\")\n",
    "gameitem = decodificador(gameitem, categorias, \"category\")\n",
    "gameitem = decodificador(gameitem, tipo_juego, \"game_type\")\n",
    "gameitem = decodificador(gameitem, familia_juego, \"family\")\n",
    "gameitem = decodificador(gameitem, editorial_juego, \"publisher\")\n",
    "\n",
    "#Este nuevo archivo decodificado se guarda en un nuevo archivo .csv\n",
    "columnas_decodificadas = [\"game_type\", \"mechanic\", \"artist\", \"designer\", \"family\", \"publisher\", \"category\"]\n",
    "archivo = gameitem[columnas_decodificadas]\n",
    "archivo.to_csv(\"data_frame_decodificado.csv\", index=False)\n",
    "\n",
    "#Se muestran los primeros 5 items para una mejor visualizacion \n",
    "df = pd.read_csv(\"data_frame_decodificado.csv\")\n",
    "df.head(5)"
   ]
  },
  {
   "cell_type": "markdown",
   "id": "dec5cbbb",
   "metadata": {},
   "source": [
    "**b) (0.2 pts)** ¿Cuánto espacio en disco ocupa este DataFrame? ¿Cuánto espacio en disco ocupan los documentos CSV separados? ¿A qué se debe esta diferencia? Comente.\n",
    "\n"
   ]
  },
  {
   "cell_type": "markdown",
   "id": "030904e0",
   "metadata": {},
   "source": [
    "*El dataframe data_frame_decodificado ocupa 6.855KB. Luego, los archivos .csv separados ocupan,*\n",
    "\n",
    "*- GameItem: 15.701KB*\n",
    "*- Category: 2KB*\n",
    "*- GameFamily: 166KB*\n",
    "*- GameType: 1KB*\n",
    "*- Mechanic: 5KB*\n",
    "*- Person: 1.135KB*\n",
    "*- Publisher: 583KB*\n",
    "\n",
    "*Esto ocurre porque, en el caso de GameItem, esta base de datos contenía toda la información unificada, incluso con la codificación. En cambio, los otros archivos .csv solo contenían la decodificación efectiva para algunas de las columnas de bbg_GameItem.csv. Podemos notar, si entramos a los archivos, que mientras menos contenido tienen, menos KB ocupan. Esto ocurre porque se tiene una relación directa de más datos -> más espacio ocupado en el disco duro. Por esta razón, mi archivo creado data_frame_decodificado.csv ocupa más espacio que los archivos decodificadores, pero menos espacio que bbg_GameItem.csv, puesto que solo utilicé las siete columnas decodificadas de interés para su creación, en vez de las totales de GameItem.*"
   ]
  },
  {
   "cell_type": "markdown",
   "id": "b8c7bec6",
   "metadata": {},
   "source": [
    "### 3.2 Juegos publicados anualmente (1.5 puntos)\n",
    "\n",
    "\n",
    "**a) (0.5 pts)** Limpie los datos para dejar solo aquellos que tienen valores válidos de año de publicación. Luego responda: ¿cuál es el rango de años con el que estamos trabajando? ¿Tienen sentido estos años?\n"
   ]
  },
  {
   "cell_type": "code",
   "execution_count": 22,
   "id": "910c71d2",
   "metadata": {},
   "outputs": [
    {
     "name": "stdout",
     "output_type": "stream",
     "text": [
      "5525\n"
     ]
    }
   ],
   "source": [
    "#Para limpiar los datos, se concretaran dos pasos:\n",
    "# 1. Se eliminarán todas las filas sin ningún dato en la columna \"year\".\n",
    "# 2. Se filtrarán los datos en el rango [-3600, 2025](*1)\n",
    "\n",
    "gameitem = pd.read_csv(\"bgg_GameItem.csv\")\n",
    "\n",
    "gameitem = gameitem[gameitem[\"year\"].notnull()]\n",
    "gameitem = gameitem[gameitem[\"year\"] >= -3500.0]\n",
    "gameitem = gameitem[gameitem[\"year\"] <= 2025.0]\n",
    "\n",
    "#A pesar de que el ejercicio no lo pide, se decide crear un archivo para ver que todo este correcto:\n",
    "gameitem.to_csv(\"years_validos.csv\", index=False)\n",
    "#De forma interna, al ver que el archivo creado pesa 16.749KB en contraste a los 18.295KB de GameItem, queda\n",
    "# claro que hubo una limpieza de algunos datos inválidos.\n",
    "\n",
    "#Para el rango, utilizamos numpy con su funcion Peak to peak\n",
    "year_variable = gameitem[\"year\"].to_numpy()\n",
    "rango = np.ptp(year_variable)\n",
    "print(int(rango))\n",
    "\n",
    "#(*1)Para esta parte, se­ buscó de hace cuánto datan los juegos de mesa más antiguos, para eliminar \n",
    "# cualquier dato erróneo de la base de datos que date de antes sin ninguna prueba. Además, el rango no\n",
    "# pasa de 2025, puesto que es el año actual. A pesar del debate académico detrás, se decide tomar\n",
    "# a Senet como el juego más antiguo que data de ~3500a.C. (las fechas varían en las publicaciones por\n",
    "# debates arqueológicos, sin embargo se decide tomar la fuente más antigua puesto que la otra opción aceptada, \n",
    "# The Royal Game of Ur, es un juego más actual que Senet, pero data del ~3500a.C. - ~3100a.C. también\n",
    "# [dependiendo la fuente]). Por esta razón se decide acotar en este rango.\n",
    "# Fuentes:\n",
    "# https://www.britishmuseum.org/blog/top-10-historical-board-games\n",
    "# https://en.wikipedia.org/wiki/Senet\n",
    "# Crist, Walter. \"Debunking the Diffusion of Senet.\" Board Game Studies Journal, 2021."
   ]
  },
  {
   "cell_type": "markdown",
   "id": "fb5ab0cd",
   "metadata": {},
   "source": [
    "*El rango de los años trabajados es 5525. La pregunta de si tiene sentido depende mucho de como se tome; tiene sentido porque, habiendo buscado los datos históricos, efectivamente el primer juego de mesa (descubierto hasta ahora) de la historia es Senet, que data de ~5000 años, donde se creó el primer juego de mesa, y en el código nos aseguramos que no pasara del año actual 2025.*\n",
    "\n",
    "*Ahora, si abordamos la pregunta consultando, \"¿para qué tienen sentido los años?\", cambia, pues dependería netamente de lo que se quiere responder el si tienen sentido, o si se debería acortar el rango en ciertos años. En resumen, dentro del contexto histórico, sí, tanto los datos como el rango tienen lógica.*"
   ]
  },
  {
   "cell_type": "markdown",
   "id": "7b8d452e",
   "metadata": {},
   "source": [
    "**b) (0.5 pts)** Seleccione solamente los juegos entre los años 1980 y 2025. Luego grafique la cantidad de juegos publicados por año. ¿Cómo es esta tendencia? Comente."
   ]
  },
  {
   "cell_type": "code",
   "execution_count": 70,
   "id": "f073e58e",
   "metadata": {},
   "outputs": [
    {
     "data": {
      "image/png": "[encoded data removed]",
      "text/plain": [
       "<Figure size 1400x500 with 1 Axes>"
      ]
     },
     "metadata": {},
     "output_type": "display_data"
    }
   ],
   "source": [
    "#Primero, se recorta el rango al pedido. Luego, se agrupan los juegos por año con la\n",
    "# función groupby() y se cuenta la cantidad de juegos publicados por año. Los datos \n",
    "# se ordenan cronologicamente, así finalmente se crea el gráfico con matplotlib.\n",
    "#El grafico toma como referencia algunos recursos vistos en la actividad 1.\n",
    "juegos_en_rango = pd.read_csv(\"years_validos.csv\")\n",
    "\n",
    "juegos_en_rango = juegos_en_rango[juegos_en_rango[\"year\"] >= 1980.0]\n",
    "juegos_en_rango = juegos_en_rango[juegos_en_rango[\"year\"] <= 2025.0]\n",
    "\n",
    "juegos_cantidad = juegos_en_rango.groupby(\"year\")\n",
    "juegos_por_year = juegos_cantidad[\"year\"].count()\n",
    "juegos_por_year = juegos_por_year.sort_index()\n",
    "\n",
    "plt.figure(figsize=(14,5))\n",
    "plt.bar(juegos_por_year.index, juegos_por_year.values, color=\"purple\")\n",
    "plt.title(\"Cantidad de juegos publicados por años (1980-2025)\", fontsize=14, color=\"k\")\n",
    "plt.xlabel(\"Año\", fontsize=11)\n",
    "plt.ylabel(\"Cantidad de juegos\", fontsize=11)\n",
    "plt.xticks(juegos_por_year.index[::3], rotation=45)\n",
    "plt.show()"
   ]
  },
  {
   "cell_type": "markdown",
   "id": "3717bfd1",
   "metadata": {},
   "source": [
    "*La tendencia, entre 1800 y los 2000, parecía ser estable, no sobrepasando en cantidad los 1000 publicados por año. En el 2000, comienza a subir gradualmente hasta alcanzar su máximo en 2019, para luego bajar progresivamente hasta el año 2023, y tener una caída considerable en 2024 (~2500 en 2023, a menos de 500 en 2024). Esto, sin embargo, puede deberse a que, al ser juegos más actuales, aún no los suben a la base de datos; sin embargo, para una respuesta concreta, habría que hacer un análisis más profundo tomando en consideración la cultura, la economía, y otros factores que puedan afectar la publicación de juegos.*"
   ]
  },
  {
   "cell_type": "markdown",
   "id": "047c1e61",
   "metadata": {},
   "source": [
    "**c) (0.5 pts)** ¿Entre qué años hubo un mayor aumento de publicación de juegos de mesa según los registros de BGG?"
   ]
  },
  {
   "cell_type": "code",
   "execution_count": 15,
   "id": "e09fa10b",
   "metadata": {},
   "outputs": [
    {
     "name": "stdout",
     "output_type": "stream",
     "text": [
      "Entre los años 2013 y 2014 estuvo el mayor aumento de publicación de juegos de mesa, con un total de 484.\n"
     ]
    }
   ],
   "source": [
    "#Se toma nuevamente el archivo de años_validos para esta pregunta\n",
    "datos_considerados = pd.read_csv(\"years_validos.csv\")\n",
    "\n",
    "#Igual que en la sección b), se agrupan, cuentan y ordenan los datos por años\n",
    "# para poder trabajarlos más fácil.\n",
    "recorte_info = datos_considerados.groupby(\"year\")\n",
    "recorte_info = recorte_info[\"year\"].count()\n",
    "recorte_info = recorte_info.sort_index()\n",
    "\n",
    "#Con un flujo de iteración sencilla se busca encontrar el máximo \"salto\" en \n",
    "# publicación durante los años, utilizando .iloc y .index para acceder a la cant.\n",
    "# de publicación y los años respectivamente.\n",
    "maximo = 0\n",
    "inicio = None\n",
    "ultimo = None\n",
    "\n",
    "for i in range(1, len(recorte_info)):\n",
    "    actual = recorte_info.iloc[i]\n",
    "    anterior = recorte_info.iloc[i-1]\n",
    "    aumento = actual - anterior\n",
    "    if aumento > maximo:\n",
    "        maximo = aumento\n",
    "        inicio = recorte_info.index[i-1]\n",
    "        ultimo = recorte_info.index[i]\n",
    "\n",
    "#Finalmente, se imprime el resultado.\n",
    "print(f\"Entre los años {int(inicio)} y {int(ultimo)} estuvo el mayor aumento de publicación de juegos de mesa, con un total de {maximo}.\")"
   ]
  },
  {
   "cell_type": "markdown",
   "id": "6c22b65f",
   "metadata": {},
   "source": [
    "### 3.3 Análisis de duración y complejidad (1.5 puntos)\n",
    "\n",
    "Si bien hay muchas posibles características que podemos explorar para los juegos de mesa, esta vez nos centraremos en el tiempo de juego y la complejidad. En esta sección queremos comprender si se ha modificado notablemente la duración promedio y la percepción de complejidad de los juegos de mesa a través de los años."
   ]
  },
  {
   "cell_type": "markdown",
   "id": "e6f0c875",
   "metadata": {},
   "source": [
    "**a) (0.3 pts)** Inspecciones y filtre los datos que tengan valores válidos para: tiempo mínimo de juego, tiempo máximo de juego y complejidad. En el caso de que existan \"outliers\", puede descartarlos, cosiderando un rango razonable para las variables anteriores. Justifique su desición."
   ]
  },
  {
   "cell_type": "code",
   "execution_count": 60,
   "id": "0e87bbc2",
   "metadata": {},
   "outputs": [
    {
     "name": "stdout",
     "output_type": "stream",
     "text": [
      "           min_time      max_time    complexity\n",
      "count  43454.000000  43454.000000  43454.000000\n",
      "mean      58.699291     87.706218      1.904462\n",
      "std      433.832809    733.971386      0.823448\n",
      "min        1.000000      1.000000      1.000000\n",
      "25%       20.000000     20.000000      1.000000\n",
      "50%       30.000000     45.000000      1.972950\n",
      "75%       60.000000     90.000000      2.408875\n",
      "max    60120.000000  84000.000000      5.000000\n",
      "480.0\n",
      "           min_time      max_time    complexity\n",
      "count  40224.000000  40224.000000  40224.000000\n",
      "mean      39.333110     53.190707      1.823584\n",
      "std       29.584342     48.076144      0.765889\n",
      "min        1.000000      5.000000      1.000000\n",
      "25%       20.000000     20.000000      1.000000\n",
      "50%       30.000000     40.000000      1.785700\n",
      "75%       60.000000     60.000000      2.250000\n",
      "max      120.000000    480.000000      5.000000\n"
     ]
    }
   ],
   "source": [
    "#Se seguirá la misma lógica que en 3.2 a), exceptuando el rango a considerar.\n",
    "gameitem = pd.read_csv(\"bgg_GameItem.csv\")\n",
    "\n",
    "def valido(archivo, variable):\n",
    "    return archivo[archivo[variable].notnull()]\n",
    "\n",
    "gameitem = valido(gameitem, \"min_time\")\n",
    "gameitem = valido(gameitem, \"max_time\")\n",
    "gameitem = valido(gameitem, \"complexity\")\n",
    "\n",
    "#Para complexity, se asegura el rango 1 <= complexity <= 5\n",
    "gameitem = gameitem[gameitem[\"complexity\"] <= 5.0]\n",
    "gameitem = gameitem[gameitem[\"complexity\"] >= 1.0]\n",
    "\n",
    "#Implementación estadística a cuartiles para ver cómo están los datos\n",
    "print(gameitem[[\"min_time\", \"max_time\", \"complexity\"]].describe())\n",
    "\n",
    "#Filtrar min_time y max_time según:\n",
    "# Para no sesgar solo por el conocimiento cultural propio, se hizo la siguiente pregunta a la IA DeepSeek:\n",
    "# \"Dada una tabla de juegos de mesa con columnas de números que representan el tiempo mínimo y máximo \n",
    "# del tablero, ¿hay algún módulo en pandas que me ayude a saber cuáles son los outliers y no \n",
    "# dejar fuera información crucial debido a sesgos personales?\"\n",
    "\n",
    "#Su respuesta llevó a la siguiente implementación estadística:\n",
    "\n",
    "Q1_min = gameitem[\"min_time\"].quantile(0.25)\n",
    "Q3_min = gameitem[\"min_time\"].quantile(0.75)\n",
    "IQR_min = Q3_min - Q1_min\n",
    "lim_inf_min = Q1_min - 1.5 * IQR_min\n",
    "#-40.0\n",
    "lim_sup_min = Q3_min + 1.5 * IQR_min\n",
    "#120\n",
    "Q1_max = gameitem[\"max_time\"].quantile(0.25)\n",
    "Q3_max = gameitem[\"max_time\"].quantile(0.75)\n",
    "IQR_max = Q3_max - Q1_max\n",
    "lim_inf_max = Q1_max - 1.5 * IQR_max\n",
    "#-85.0\n",
    "lim_sup_max = Q3_max + 1.5 * IQR_max\n",
    "#195. Los juegos de rol pueden durar hasta días, así que para no realizar una decisión\n",
    "#arbitraria, se opta por:\n",
    "lim_sup_max = gameitem[\"max_time\"].quantile(0.99)\n",
    "#480\n",
    "print(lim_sup_max_0)\n",
    "#Nos guiamos con estos datos, pero con consideraciones:\n",
    "# - Descartar tiempos negativos por absurdo en min_time\n",
    "# - Descartar cuando max_time < min_time, por absurdo\n",
    "# - Lim_inf_max quedará en 5 minutos, pues -85.0 es absurdo\n",
    "\n",
    "gameitem = gameitem[gameitem[\"max_time\"] >= gameitem[\"min_time\"]]\n",
    "gameitem = gameitem[gameitem[\"min_time\"] > 0.0]\n",
    "gameitem = gameitem[gameitem[\"min_time\"] <= lim_sup_min]\n",
    "gameitem = gameitem[gameitem[\"max_time\"] >= 5.0]\n",
    "gameitem = gameitem[gameitem[\"max_time\"] <= lim_sup_max]\n",
    "\n",
    "#Implementación estadística a cuartiles para ver que los datos estén mejor distribuidos\n",
    "print(gameitem[[\"min_time\", \"max_time\", \"complexity\"]].describe())\n",
    "\n",
    "#Nuevo archivo .csv para su implementación en b) c) y d).\n",
    "gameitem.to_csv(\"tiempos_dificultad.csv\", index=False)\n"
   ]
  },
  {
   "cell_type": "markdown",
   "id": "848e2dee",
   "metadata": {},
   "source": [
    "**b) (0.2 pts)** Veremos ahora si ha cambiado la duración promedio de los juegos de mesa en nuestro rango de años seleccionado. Primero, cree una nueva columna `avg_time` en el dataset con la duración promedio supuesta para cada juego."
   ]
  },
  {
   "cell_type": "code",
   "execution_count": 52,
   "id": "204778d8",
   "metadata": {},
   "outputs": [],
   "source": [
    "gameitem = pd.read_csv(\"tiempos_dificultad.csv\")\n",
    "\n",
    "gameitem[\"avg_time\"] = (gameitem[\"max_time\"] + gameitem[\"min_time\"]) / 2\n",
    "\n",
    "gameitem = gameitem.to_csv(\"columna_extra.csv\")\n"
   ]
  },
  {
   "cell_type": "markdown",
   "id": "89df6ae6",
   "metadata": {},
   "source": [
    "**c) (0.5 pts)** Grafique la duración promedio de juegos al año entre 1980 y 2025. ¿Existe alguna tendencia? Asegúrese de colocar las unidades correspondientes en sus ejes si es necesario. Comente sus resultados."
   ]
  },
  {
   "cell_type": "code",
   "execution_count": 93,
   "id": "765da813",
   "metadata": {},
   "outputs": [
    {
     "data": {
      "image/png": "[encoded data removed]",
      "text/plain": [
       "<Figure size 1400x500 with 1 Axes>"
      ]
     },
     "metadata": {},
     "output_type": "display_data"
    },
    {
     "name": "stdout",
     "output_type": "stream",
     "text": [
      "Duración promedio de juegos: 50.16 minutos.\n"
     ]
    }
   ],
   "source": [
    "#Se utilizará el mismo método que en 3.2 b)\n",
    "gameitem = pd.read_csv(\"columna_extra.csv\")\n",
    "gameitem = gameitem[gameitem[\"year\"] >= 1980.0]\n",
    "gameitem = gameitem[gameitem[\"year\"] <= 2025.0]\n",
    "\n",
    "gameitem = gameitem.groupby(\"year\")\n",
    "gameitem = gameitem[\"avg_time\"].mean()\n",
    "gameitem = gameitem.sort_index()\n",
    "suma_prom = sum(gameitem.values) / len(gameitem.values)\n",
    "\n",
    "plt.figure(figsize=(14,5))\n",
    "gameitem.plot.line(color=\"crimson\", linestyle=\"-\", marker=\".\")\n",
    "plt.title(\"Duración promedio de juegos de mesa a lo largo de los años (1980-2025)\", fontsize=14)\n",
    "plt.xlabel(\"Año\", fontsize=11)\n",
    "plt.ylabel(\"Minutos promedio\", fontsize=11)\n",
    "plt.xticks(gameitem.index[::3], rotation=45)\n",
    "plt.grid(True, linestyle=':', color='gray', alpha=0.7)\n",
    "plt.show()\n",
    "\n",
    "#La duración promedio de este periodo es\n",
    "print(f\"Duración promedio de juegos: {round(suma_prom, 2)} minutos.\")\n"
   ]
  },
  {
   "cell_type": "markdown",
   "id": "0bec7a8c",
   "metadata": {},
   "source": [
    "_El gráfico muestra que, desde 1980 (tiempo promedio ~75min), venía bajando gradualmente hasta 1983, donde los minutos tuvieron un alza de no más de 5 minutos (tiempo promedio 60min), y se estabilizaron hasta 1986. Luego fueron bajando gradualmente, incluso con aumentos pequeños cada ciertos años. Y desde 1994 hasta 2021, el tiempo promedio de juego disminuyó al rango mínimo que visualizamos, oscilando entre 40-50 minutos, con mínimos muy cercanos a 40 mins en 2011 y 2014. Sin embargo, en 2023 hubo un aumento atípico (+10 mins, ~63min tiempo promedio), seguido de un pico en 2024 (~87 mins) y una ligera bajada en 2025 (~75 mins)._\n",
    "\n",
    "_El promedio histórico es ~50.16 mins, pero los datos recientes indican una posible ruptura de la tendencia a la baja, quizá por una nueva estrategia de las compañías de juegos de mesa o un cambio en las preferencias post-pandemia. Sin embargo, el porqué el alza sorpresiva de los minutos promedios de juego no sería más que una vaga suposición, porque de querer sacar una conclusión segura, se necesitaría una investigación más exhaustiva, cautelosa, y más análisis, ya que 2-3 años no bastan para confirmar un cambio estructural, y se debe tener cuidado al sacar conclusiones con el salto atípico en el período 2022-2024._"
   ]
  },
  {
   "cell_type": "markdown",
   "id": "a5847905",
   "metadata": {},
   "source": [
    "**d) (0.5 pts)** Nos interesa saber si los juegos de mesa recientes son más complejos que aquellos publicados antes de los 2000. BoardGameGeek permite evaluar la complejidad (o \"weight\") de un juego en una escala de 1 a 5, siendo 1 un juego \"liviano\" o fácil de entender, y 5 un juego \"pesado\" o complejo. Primero, seleccione los juegos que han sido evaluados por al menos 100 usuarios. Luego grafique la complejidad promedio de los juegos según año. Responda: ¿ha cambiado la percepción de complejidad entre juegos entre 1980 y la actualidad?"
   ]
  },
  {
   "cell_type": "code",
   "execution_count": null,
   "id": "776553e6",
   "metadata": {},
   "outputs": [],
   "source": []
  },
  {
   "cell_type": "markdown",
   "id": "9a241f39",
   "metadata": {},
   "source": [
    "### 3.4 Análisis de categorías comunes (2 puntos)\n",
    "\n",
    "Existe una gran diversidad de categorías de juegos de mesa. Ahora nos concentraremos en un grupo específico de ellas, con el fin de analizar cómo a cambiado la cantidad de juegos de estas clases desde 1980 hasta hoy.\n",
    "\n",
    "**a) (0.7 pts)** ¿Cuáles son las 5 categorías más comunes en los juegos del dataset? Muestre la cantidad de juegos que hay de cada una. Puede graficar estos valores, o bien, entregar un DataFrame con sus valores."
   ]
  },
  {
   "cell_type": "code",
   "execution_count": null,
   "id": "13730de1",
   "metadata": {},
   "outputs": [],
   "source": []
  },
  {
   "cell_type": "markdown",
   "id": "d9aa153e",
   "metadata": {},
   "source": [
    "**b) (0.3 pts)** Para cada una de estas 5 categorías, cree un DataFrame que contenga la cantidad de juegos en el dataset según año. Luego junte estos DataFrames en uno solo con los atributos de \"Año\", \"Categoría\" y \"Cantidad\"."
   ]
  },
  {
   "cell_type": "code",
   "execution_count": null,
   "id": "325d450d",
   "metadata": {},
   "outputs": [],
   "source": []
  },
  {
   "cell_type": "markdown",
   "id": "d299aa4c",
   "metadata": {},
   "source": [
    "**c) (1 pto)** Grafique, en un solo gráfico y con distintos colores, la cantidad de juegos por año según categoría. Preocúpese de ponerle etiquetas al gráfico para identificar cada categoría y una leyenda donde se muestre cada una. Comente: ¿ha habido un cambio entre los juegos más comunes en los años 80 y hoy?\n"
   ]
  },
  {
   "cell_type": "code",
   "execution_count": null,
   "id": "7ad14cda",
   "metadata": {},
   "outputs": [],
   "source": []
  },
  {
   "cell_type": "markdown",
   "id": "9db1ea34-4030-4b3a-8853-4ef75f894298",
   "metadata": {},
   "source": [
    "### 3.5 Análisis Crítico (Bono +0.5 puntos)\n",
    "\n",
    "¿Qué limitaciones o problemas encontraste en los datos?"
   ]
  },
  {
   "cell_type": "code",
   "execution_count": null,
   "id": "cdbb98fe-7278-48ee-af95-05801244c50d",
   "metadata": {},
   "outputs": [],
   "source": []
  }
 ],
 "metadata": {
  "kernelspec": {
   "display_name": "Python 3",
   "language": "python",
   "name": "python3"
  },
  "language_info": {
   "codemirror_mode": {
    "name": "ipython",
    "version": 3
   },
   "file_extension": ".py",
   "mimetype": "text/x-python",
   "name": "python",
   "nbconvert_exporter": "python",
   "pygments_lexer": "ipython3",
   "version": "3.12.9"
  }
 },
 "nbformat": 4,
 "nbformat_minor": 5
}
